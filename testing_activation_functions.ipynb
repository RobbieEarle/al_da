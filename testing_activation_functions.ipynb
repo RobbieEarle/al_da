{
  "nbformat": 4,
  "nbformat_minor": 0,
  "metadata": {
    "colab": {
      "name": "testing_activation_functions.ipynb",
      "provenance": [],
      "collapsed_sections": [],
      "authorship_tag": "ABX9TyO3ozecKIVp5+knA9SpzZgD",
      "include_colab_link": true
    },
    "kernelspec": {
      "name": "python3",
      "display_name": "Python 3"
    },
    "accelerator": "GPU"
  },
  "cells": [
    {
      "cell_type": "markdown",
      "metadata": {
        "id": "view-in-github",
        "colab_type": "text"
      },
      "source": [
        "<a href=\"https://colab.research.google.com/github/RobbieEarle/al_da/blob/master/testing_activation_functions.ipynb\" target=\"_parent\"><img src=\"https://colab.research.google.com/assets/colab-badge.svg\" alt=\"Open In Colab\"/></a>"
      ]
    },
    {
      "cell_type": "code",
      "metadata": {
        "id": "iPuJmKix6_xd",
        "colab_type": "code",
        "colab": {}
      },
      "source": [
        "import torch\n",
        "import torch.nn as nn\n",
        "import torch.nn.functional as F\n",
        "import torch.optim as optim\n",
        "import torch.utils.data\n",
        "\n",
        "import torchvision\n",
        "import torchvision.datasets as datasets\n",
        "import torchvision.transforms as transforms\n",
        "\n",
        "import numpy as np\n",
        "from matplotlib import pyplot as plt\n",
        "\n",
        "import json\n",
        "from google.colab import drive\n",
        "from datetime import datetime\n",
        "from pytz import timezone    "
      ],
      "execution_count": 0,
      "outputs": []
    },
    {
      "cell_type": "markdown",
      "metadata": {
        "id": "n91zYbkmv0G6",
        "colab_type": "text"
      },
      "source": [
        "Loading Dataset"
      ]
    },
    {
      "cell_type": "code",
      "metadata": {
        "id": "FwmXxPFQ7atc",
        "colab_type": "code",
        "outputId": "8f93441d-0704-4c1b-c06a-0698e2a1f127",
        "colab": {
          "base_uri": "https://localhost:8080/",
          "height": 252
        }
      },
      "source": [
        "trans = transforms.Compose([transforms.ToTensor(), transforms.Normalize((0.5,), (1.0,))])\n",
        "mnist_tr = datasets.MNIST(root='./data', train=True, download=True, transform=trans)\n",
        "mnist_te = datasets.MNIST(root='./data', train=False, download=True, transform=trans)\n",
        "\n",
        "# Customize batch size, and allows us to take subsets of the test & train data\n",
        "batch_size = 50\n",
        "train_subset_size = 8000\n",
        "test_subset_size = 5000\n",
        "trimmed_mnist_tr, _ = torch.utils.data.random_split(mnist_tr, [train_subset_size, len(mnist_tr) - train_subset_size])\n",
        "trimmed_mnist_te, _ = torch.utils.data.random_split(mnist_te, [test_subset_size, len(mnist_te) - test_subset_size])\n",
        "\n",
        "train_loader = torch.utils.data.DataLoader(\n",
        "                 dataset=trimmed_mnist_tr,\n",
        "                 batch_size=batch_size,\n",
        "                 shuffle=True)\n",
        "test_loader = torch.utils.data.DataLoader(\n",
        "                dataset=trimmed_mnist_te,\n",
        "                batch_size=batch_size,\n",
        "                shuffle=False)"
      ],
      "execution_count": 2,
      "outputs": [
        {
          "output_type": "stream",
          "text": [
            "\r0it [00:00, ?it/s]"
          ],
          "name": "stderr"
        },
        {
          "output_type": "stream",
          "text": [
            "Downloading http://yann.lecun.com/exdb/mnist/train-images-idx3-ubyte.gz to ./data/MNIST/raw/train-images-idx3-ubyte.gz\n"
          ],
          "name": "stdout"
        },
        {
          "output_type": "stream",
          "text": [
            "9920512it [00:01, 8508637.06it/s]                            \n"
          ],
          "name": "stderr"
        },
        {
          "output_type": "stream",
          "text": [
            "Extracting ./data/MNIST/raw/train-images-idx3-ubyte.gz to ./data/MNIST/raw\n"
          ],
          "name": "stdout"
        },
        {
          "output_type": "stream",
          "text": [
            "  0%|          | 0/28881 [00:00<?, ?it/s]"
          ],
          "name": "stderr"
        },
        {
          "output_type": "stream",
          "text": [
            "Downloading http://yann.lecun.com/exdb/mnist/train-labels-idx1-ubyte.gz to ./data/MNIST/raw/train-labels-idx1-ubyte.gz\n"
          ],
          "name": "stdout"
        },
        {
          "output_type": "stream",
          "text": [
            "32768it [00:00, 129183.73it/s]           \n",
            "  0%|          | 0/1648877 [00:00<?, ?it/s]"
          ],
          "name": "stderr"
        },
        {
          "output_type": "stream",
          "text": [
            "Extracting ./data/MNIST/raw/train-labels-idx1-ubyte.gz to ./data/MNIST/raw\n",
            "Downloading http://yann.lecun.com/exdb/mnist/t10k-images-idx3-ubyte.gz to ./data/MNIST/raw/t10k-images-idx3-ubyte.gz\n"
          ],
          "name": "stdout"
        },
        {
          "output_type": "stream",
          "text": [
            "1654784it [00:00, 2076210.90it/s]                            \n",
            "0it [00:00, ?it/s]"
          ],
          "name": "stderr"
        },
        {
          "output_type": "stream",
          "text": [
            "Extracting ./data/MNIST/raw/t10k-images-idx3-ubyte.gz to ./data/MNIST/raw\n",
            "Downloading http://yann.lecun.com/exdb/mnist/t10k-labels-idx1-ubyte.gz to ./data/MNIST/raw/t10k-labels-idx1-ubyte.gz\n"
          ],
          "name": "stdout"
        },
        {
          "output_type": "stream",
          "text": [
            "8192it [00:00, 49806.61it/s]            \n"
          ],
          "name": "stderr"
        },
        {
          "output_type": "stream",
          "text": [
            "Extracting ./data/MNIST/raw/t10k-labels-idx1-ubyte.gz to ./data/MNIST/raw\n",
            "Processing...\n",
            "Done!\n"
          ],
          "name": "stdout"
        }
      ]
    },
    {
      "cell_type": "markdown",
      "metadata": {
        "id": "8ueZgOVgv3aS",
        "colab_type": "text"
      },
      "source": [
        "Defining simple single layer NN w/ ReLU activation"
      ]
    },
    {
      "cell_type": "code",
      "metadata": {
        "id": "FXvDd7EP8mm3",
        "colab_type": "code",
        "colab": {}
      },
      "source": [
        "class ReluNet(nn.Module):\n",
        "\n",
        "  def __init__(self, n_params=25818, n_inputs=784, n_outputs=10):\n",
        "    super(ReluNet, self).__init__()\n",
        "\n",
        "    # Choosing number of hidden nodes to ensure number of parameters is\n",
        "    # approximately correct. Second hidden layer has half as many nodes as\n",
        "    # first.\n",
        "    n_h1 = int(np.sqrt(np.square(n_inputs + (0.5 * n_outputs)) + (2 * n_params))) - 789\n",
        "    n_h2 = int(n_h1 / 2)\n",
        "    if n_h1 == 0:\n",
        "      n_h1 = 1\n",
        "    if n_h2 == 0:\n",
        "      n_h2 = 1\n",
        "\n",
        "    self.fc1 = nn.Linear(n_inputs, n_h1)\n",
        "    self.fc2 = nn.Linear(n_h1, n_h2)\n",
        "    self.fc3 = nn.Linear(n_h2, n_outputs)\n",
        "\n",
        "  def forward(self, x):\n",
        "    x = x.view(-1, 28*28)\n",
        "    x = F.relu(self.fc1(x))\n",
        "    x = F.relu(self.fc2(x))\n",
        "    x = self.fc3(x)\n",
        "    \n",
        "    return x"
      ],
      "execution_count": 0,
      "outputs": []
    },
    {
      "cell_type": "markdown",
      "metadata": {
        "id": "jYXtD3RZwJS4",
        "colab_type": "text"
      },
      "source": [
        "Defining function to train a given model"
      ]
    },
    {
      "cell_type": "code",
      "metadata": {
        "id": "GLc8NvxkWnUP",
        "colab_type": "code",
        "colab": {}
      },
      "source": [
        "def train_model(model, verbose=False):\n",
        "\n",
        "  # Defines optimizer, loss, and default value for global vars\n",
        "  optimizer = optim.SGD(model.parameters(), lr=0.01, momentum=0.9)\n",
        "  criterion = nn.CrossEntropyLoss()\n",
        "  curr_highest_acc = 0\n",
        "  num_times_fail_to_improve = 0\n",
        "  epoch = 0\n",
        "\n",
        "  # Output number of parameters being tested by this training session\n",
        "  num_params = sum(p.numel() for p in model.parameters() if p.requires_grad)\n",
        "  print(\"----> Total Number of Parameters: \" + str(num_params))\n",
        "\n",
        "  # Start recording time to converge\n",
        "  start = torch.cuda.Event(enable_timing=True)\n",
        "  end = torch.cuda.Event(enable_timing=True)\n",
        "  start.record()\n",
        "\n",
        "  # Algorithm continues running epochs until we have 3 straight epochs with no\n",
        "  # improvement\n",
        "  while num_times_fail_to_improve < 3:\n",
        "    \n",
        "    # -------- Training\n",
        "    model.train()\n",
        "    epoch += 1\n",
        "    for batch_idx, (x, target) in enumerate(train_loader):\n",
        "      \n",
        "      # Training model using minibatch\n",
        "      optimizer.zero_grad()\n",
        "      out = model(x)\n",
        "      train_loss = criterion(out, target)\n",
        "      train_loss.backward()\n",
        "      optimizer.step()\n",
        "\n",
        "      # If verbose, prints out loss updates 5 times per epoch\n",
        "      if verbose and batch_idx % (int(len(train_loader) / 5)) == 0:\n",
        "        print (\n",
        "              'epoch {:>5}, batch element {:>5}, train_loss {:9.3f}'\n",
        "              .format(epoch, batch_idx, train_loss.item())\n",
        "          )\n",
        "\n",
        "      # -------- Testing \n",
        "      # Occurs at the end of each epoch\n",
        "      if batch_idx == len(train_loader) - 1:\n",
        "\n",
        "        num_correct = 0\n",
        "        num_total = 0\n",
        "        model.eval()\n",
        "\n",
        "        with torch.no_grad():\n",
        "          for batch_idx2, (x, target) in enumerate(test_loader):\n",
        "            \n",
        "            # For each batch in our test set we check how many correct\n",
        "            # predictions and how many predictions were made\n",
        "            out = model(x)\n",
        "            test_loss = criterion(out, target)\n",
        "            _, prediction = torch.max(out.data, 1)\n",
        "            num_correct += torch.sum(prediction == target.data)\n",
        "            num_total += len(prediction)\n",
        "\n",
        "          # After going through all batches, accuracy is proportion of correct\n",
        "          # responses\n",
        "          accuracy = num_correct * 1.0 / num_total\n",
        "\n",
        "          # Checks if this epoch gave us an improvement in test accuracy\n",
        "          if accuracy > curr_highest_acc:\n",
        "            curr_highest_acc = accuracy\n",
        "            num_times_fail_to_improve = 0\n",
        "          else:\n",
        "            num_times_fail_to_improve += 1\n",
        "\n",
        "          # Outputs test results for this epoch\n",
        "          print (\n",
        "              'epoch {:>5}, batch element {:>5}, train_loss {:9.3f}, test_loss {:9.3f}, test accuracy {:.3f}'\n",
        "              .format(epoch, batch_idx, train_loss.item(), test_loss.item(), accuracy)\n",
        "          )\n",
        "  print()\n",
        "\n",
        "  end.record()\n",
        "  torch.cuda.synchronize()\n",
        "\n",
        "  return num_params, float(curr_highest_acc), epoch, start.elapsed_time(end)"
      ],
      "execution_count": 0,
      "outputs": []
    },
    {
      "cell_type": "markdown",
      "metadata": {
        "id": "BLuKEkBNO6FC",
        "colab_type": "text"
      },
      "source": [
        "Running experiment to examine performance vs number of parameters"
      ]
    },
    {
      "cell_type": "code",
      "metadata": {
        "colab_type": "code",
        "id": "KaoXNv9iLtQz",
        "colab": {}
      },
      "source": [
        "# Create JSON object\n",
        "timestamp = str(datetime.now(timezone('Canada/Atlantic')))\n",
        "output = {\n",
        "    \"timestamp\":timestamp,\n",
        "    \"metadata\":{\n",
        "        \"dataset\":\"MNIST\",\n",
        "        \"train_data\":train_subset_size,\n",
        "        \"test_data\":test_subset_size,\n",
        "        \"batch_size\":batch_size,\n",
        "        \"network_type\":\"feed forward\",\n",
        "        \"num_hidden_layers\":2,\n",
        "        \"activation\":\"ReLU\"\n",
        "    },\n",
        "    \"data\":[]\n",
        "}\n",
        "\n",
        "# Decide how many parameters to increase by in each iteration\n",
        "num_params_step = 1000\n",
        "i = 1\n",
        "\n",
        "# Repeatedly train models with an increasing number of parameters. Make an entry\n",
        "# for each in our output dict and periodically save\n",
        "drive.mount('/content/drive')\n",
        "while True:\n",
        "  params, acc, epoch, time_mil = train_model(ReluNet(num_params_step * i))\n",
        "  entry = {\n",
        "      \"num_params\":params,\n",
        "      \"accuracy\":acc,\n",
        "      \"num_epochs\":epoch,\n",
        "      \"train_time\":time_mil\n",
        "  }\n",
        "  output[\"data\"].append(entry)\n",
        "  i += 1\n",
        "  with open('/content/drive/My Drive/combinact_outputs/_CURR_OUTPUT.json', 'w') as outfile:\n",
        "    json.dump(output, outfile)\n",
        "drive.flush_and_unmount()"
      ],
      "execution_count": 0,
      "outputs": []
    },
    {
      "cell_type": "code",
      "metadata": {
        "id": "VnKIUBp3_-k_",
        "colab_type": "code",
        "colab": {}
      },
      "source": [
        "# https://stackoverflow.com/a/16344128\n",
        "\n",
        "# Load saved data\n",
        "drive.mount('/content/drive')\n",
        "with open('/content/drive/My Drive/combinact_outputs/relu_combinact_data_01_24_1.json', 'r') as infile:\n",
        "  loaded_experiment = json.load(infile)\n",
        "drive.flush_and_unmount()"
      ],
      "execution_count": 0,
      "outputs": []
    },
    {
      "cell_type": "code",
      "metadata": {
        "id": "jI9RrTWTxjRU",
        "colab_type": "code",
        "colab": {
          "base_uri": "https://localhost:8080/",
          "height": 745
        },
        "outputId": "49661c77-0377-4df6-ed86-42c6032f1bf8"
      },
      "source": [
        "# Plot observations\n",
        "\n",
        "observations = np.zeros((len(loaded_experiment[\"data\"]), 2))\n",
        "for i, entry in enumerate(loaded_experiment[\"data\"]):\n",
        "  observations[i,0] = entry[\"num_params\"]\n",
        "  observations[i,1] = entry[\"accuracy\"]\n",
        "\n",
        "plt.figure(figsize=(10,6))\n",
        "plt.plot(observations[:,0], observations[:,1])\n",
        "plt.xlabel('Parameters')\n",
        "plt.ylabel('Accuracy')\n",
        "plt.show()\n",
        "\n",
        "plt.figure(figsize=(10,6))\n",
        "plt.plot(observations[:40,0], observations[:40,1])\n",
        "plt.show()"
      ],
      "execution_count": 21,
      "outputs": [
        {
          "output_type": "display_data",
          "data": {
            "image/png": "[encoded data removed]",
            "text/plain": [
              "<Figure size 720x432 with 1 Axes>"
            ]
          },
          "metadata": {
            "tags": []
          }
        },
        {
          "output_type": "display_data",
          "data": {
            "image/png": "[encoded data removed]",
            "text/plain": [
              "<Figure size 720x432 with 1 Axes>"
            ]
          },
          "metadata": {
            "tags": []
          }
        }
      ]
    },
    {
      "cell_type": "code",
      "metadata": {
        "id": "SeoibsYsEQUF",
        "colab_type": "code",
        "colab": {}
      },
      "source": [
        ""
      ],
      "execution_count": 0,
      "outputs": []
    }
  ]
}